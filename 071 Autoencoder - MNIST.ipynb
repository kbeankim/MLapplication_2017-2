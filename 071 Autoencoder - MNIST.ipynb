{
 "cells": [
  {
   "cell_type": "code",
   "execution_count": 2,
   "metadata": {
    "collapsed": false
   },
   "outputs": [
    {
     "name": "stdout",
     "output_type": "stream",
     "text": [
      "Extracting /Users/sungchul/Dropbox/Data/MNIST/train-images-idx3-ubyte.gz\n",
      "Extracting /Users/sungchul/Dropbox/Data/MNIST/train-labels-idx1-ubyte.gz\n",
      "Extracting /Users/sungchul/Dropbox/Data/MNIST/t10k-images-idx3-ubyte.gz\n",
      "Extracting /Users/sungchul/Dropbox/Data/MNIST/t10k-labels-idx1-ubyte.gz\n",
      "Epoch :  0001 cost =  6.671692140\n",
      "Epoch :  0051 cost =  6.647968150\n",
      "Epoch :  0101 cost =  6.643137836\n",
      "Epoch :  0151 cost =  6.638812256\n",
      "Epoch :  0201 cost =  6.635753002\n",
      "Epoch :  0251 cost =  6.633579056\n",
      "Epoch :  0301 cost =  6.631978855\n",
      "Epoch :  0351 cost =  6.630764954\n",
      "Epoch :  0401 cost =  6.629818230\n",
      "Epoch :  0451 cost =  6.629058853\n",
      "Epoch :  0501 cost =  6.628439833\n",
      "Epoch :  0551 cost =  6.627924922\n",
      "Epoch :  0601 cost =  6.627492386\n",
      "Epoch :  0651 cost =  6.627120767\n",
      "Epoch :  0701 cost =  6.626801789\n",
      "Epoch :  0751 cost =  6.626525785\n",
      "Epoch :  0801 cost =  6.626279836\n",
      "Epoch :  0851 cost =  6.626064341\n",
      "Epoch :  0901 cost =  6.625872420\n",
      "Epoch :  0951 cost =  6.625700208\n"
     ]
    },
    {
     "data": {
      "image/png": "[encoded data removed]",
      "text/plain": [
       "<matplotlib.figure.Figure at 0x124c23c50>"
      ]
     },
     "metadata": {},
     "output_type": "display_data"
    },
    {
     "data": {
      "image/png": "[encoded data removed]",
      "text/plain": [
       "<matplotlib.figure.Figure at 0x108294278>"
      ]
     },
     "metadata": {},
     "output_type": "display_data"
    }
   ],
   "source": [
    "import tensorflow as tf\n",
    "import matplotlib.pyplot as plt\n",
    "from tensorflow.examples.tutorials.mnist import input_data\n",
    "from random import randint\n",
    "\n",
    "LEARNING_RATE = 0.01\n",
    "EPOCH_TRAIN = 1000\n",
    "BATCH_SIZE = 100\n",
    "DISPLY_STEP = 50\n",
    "\n",
    "INPUT_SIZE = 784\n",
    "BOTTLE_NECK_SIZE = 10\n",
    "OUTPUT_SIZE = 784\n",
    "\n",
    "try:\n",
    "    data = input_data.read_data_sets(\"data/MNIST/\", one_hot=True)\n",
    "except:\n",
    "    mnist = input_data.read_data_sets(\"/Users/sungchul/Dropbox/Data/MNIST/\", one_hot=True)\n",
    "\n",
    "x = tf.placeholder(tf.float32)\n",
    "\n",
    "w1 = tf.Variable(tf.truncated_normal(shape=(INPUT_SIZE, BOTTLE_NECK_SIZE), stddev=0.1), tf.float32, name='w1') \n",
    "b1 = tf.Variable(tf.zeros((1, BOTTLE_NECK_SIZE)), tf.float32, name='b1')\n",
    "\n",
    "bottle_neck = tf.nn.sigmoid(tf.matmul(x, w1) + b1)\n",
    "\n",
    "w2 = tf.Variable(tf.truncated_normal(shape=(BOTTLE_NECK_SIZE, OUTPUT_SIZE), stddev=0.1), tf.float32, name='w2') \n",
    "b2 = tf.Variable(tf.zeros((1, OUTPUT_SIZE)), tf.float32, name='b2')\n",
    "\n",
    "logits = tf.nn.sigmoid(tf.matmul(bottle_neck, w2) + b2) \n",
    "\n",
    "cost = tf.reduce_mean(tf.nn.softmax_cross_entropy_with_logits(labels=x, logits=logits))\n",
    "train = tf.train.GradientDescentOptimizer(LEARNING_RATE).minimize(cost)\n",
    "\n",
    "with tf.Session() as sess:\n",
    "    tf.global_variables_initializer().run()\n",
    "\n",
    "    # training\n",
    "    for epoch in range(EPOCH_TRAIN):\n",
    "        total_cost_this_epoch = 0.\n",
    "        number_of_batch = int(mnist.train.num_examples / BATCH_SIZE)\n",
    "        for i in range(number_of_batch):\n",
    "            batch_xs, _ = mnist.train.next_batch(BATCH_SIZE)\n",
    "            _, cost_this_batch = sess.run([train, cost], feed_dict={x: batch_xs})\n",
    "            total_cost_this_epoch += cost_this_batch\n",
    "        if epoch % DISPLY_STEP == 0:\n",
    "            print(\"Epoch : \", '%04d' % (epoch + 1), \"cost = \", \"{:.9f}\".format(total_cost_this_epoch / mnist.train.num_examples))\n",
    "\n",
    "    # predict and show\n",
    "    r = randint(0, mnist.test.num_examples - 1)\n",
    "    input_img = mnist.test.images[r:r+1]\n",
    "    output_img = sess.run(logits, feed_dict={x: mnist.test.images[r:r+1]})\n",
    "    plt.imshow(input_img.reshape(28, 28), cmap='Greys', interpolation='nearest')\n",
    "    plt.show()\n",
    "    plt.imshow(output_img.reshape(28, 28), cmap='Greys', interpolation='nearest')\n",
    "    plt.show()\n"
   ]
  },
  {
   "cell_type": "markdown",
   "metadata": {
    "collapsed": true
   },
   "source": [
    "# Exercise.\n",
    "\n",
    "Improve the above code."
   ]
  },
  {
   "cell_type": "code",
   "execution_count": null,
   "metadata": {
    "collapsed": true
   },
   "outputs": [],
   "source": []
  }
 ],
 "metadata": {
  "kernelspec": {
   "display_name": "Python 3",
   "language": "python",
   "name": "python3"
  },
  "language_info": {
   "codemirror_mode": {
    "name": "ipython",
    "version": 3
   },
   "file_extension": ".py",
   "mimetype": "text/x-python",
   "name": "python",
   "nbconvert_exporter": "python",
   "pygments_lexer": "ipython3",
   "version": "3.6.0"
  }
 },
 "nbformat": 4,
 "nbformat_minor": 2
}
