{
 "cells": [
  {
   "cell_type": "markdown",
   "metadata": {},
   "source": [
    "<img src=\"img/Three learning problems.png\"/>\n",
    "\n",
    "# 강의\n",
    "\n",
    "Andrew Ng - CS229 \n",
    "\n",
    "Sung Kim - 모두를 위한 딥러닝 강좌 시즌 2\n",
    "\n",
    "David Silver - Reinforcement Learning \n",
    "\n",
    "John Schulman - CS294-112 2017 Deep Reinforcement Learning\n",
    "\n",
    "John Schulman - Deep Reinforcement Learning \n",
    "\n",
    "Lex Fridman - Deep Learning for Self-Driving Cars\n",
    "\n",
    "Deep Reinforcement Learning [Pieter Abbeel](https://www.youtube.com/watch?v=ID150Tl-MMw)\n",
    "\n",
    "A Tutorial on Reinforcement Learning by Emma Brunskill [1](https://www.youtube.com/watch?v=fIKkhoI1kF4) [2](https://www.youtube.com/watch?v=8hK0NnG_DhY)\n",
    "\n",
    "# Book\n",
    "\n",
    "Machine Learning, Tom Mitchell, 1997\n",
    "\n",
    "Reinforcement Learning: An Introduction, Second edition, in progress [Richard S. Sutton and Andrew G. Barto](https://www.dropbox.com/s/b3psxv2r0ccmf80/book2015oct.pdf?dl=0) [local-slide](http://localhost:8888/notebooks/Dropbox/Paper/Reinforcement Learning - An Introduction - Second edition.pdf) [code](https://github.com/dennybritz/reinforcement-learning)\n",
    "\n",
    "Algorithms for Reinforcement Learning [Szepesvari](https://sites.ualberta.ca/~szepesva/papers/RLAlgsInMDPs-lecture.pdf) [local-slide](http://localhost:8888/notebooks/Dropbox/Paper/Algorithms for Reinforcement Learning.pdf)\n",
    "\n",
    "Fundamental of Reinforcement Learning 이웅원 [ebook](https://www.gitbook.com/book/dnddnjs/rl/details) [code](https://github.com/rlcode/reinforcement-learning)\n",
    "\n",
    "Awesome Reinforcement Learning [Hyunsoo Kim, Jiwon Kim](http://aikorea.org/awesome-rl/)\n",
    "\n",
    "dennybritz/reinforcement-learning [code](https://github.com/dennybritz/reinforcement-learning)\n",
    "\n",
    "# Demo\n",
    "\n",
    "[Stanford Autonomous Helicopter](http://heli.stanford.edu/) \n",
    "\n",
    "[Real-world demonstrations of Reinforcement Learning](http://www.dcsc.tudelft.nl/~robotics/media.html)\n",
    "\n",
    "[Deep Q-Learning Demo - A deep Q learning demonstration using ConvNetJS](http://cs.stanford.edu/people/karpathy/convnetjs/demo/rldemo.html)\n",
    "\n",
    "[Deep Q-Learning with Tensor Flow - A deep Q learning demonstration using Google Tensorflow](https://github.com/siemanko/tensorflow-deepq)\n",
    "\n",
    "Google DeepMind's Deep Q-Learning & Superhuman Atari Gameplays [Two Minute Papers #27](https://www.youtube.com/watch?v=Ih8EfvOzBOY) [1](https://www.youtube.com/watch?v=GACcbfUaHwc) [2](https://www.youtube.com/watch?v=tkgPvAzUbzk) [3](https://www.youtube.com/watch?v=_LEthduIbtk) [4](https://www.youtube.com/watch?v=T58HkwX-OuI) [5](https://www.youtube.com/watch?v=iqXKQf2BOSE&feature=youtu.be)\n",
    "\n",
    "[OpenAI Gym](https://gym.openai.com/) \n",
    "\n",
    "# Code\n",
    "\n",
    "[Simple Reinforcement Learning with TensorFlow](https://medium.com/emergent-future/)\n",
    "\n",
    "[Simple reinforcement learning methods to learn CartPole](http://kvfrans.com/simple-algoritms-for-solving-cartpole/)\n",
    "\n",
    "Deep Reinforcement Learning: Pong from Pixels [Andrej Karpathy](http://karpathy.github.io/2016/05/31/rl/)\n",
    "\n",
    "Reinforcement-learning [rlcode](https://github.com/dennybritz/reinforcement-learning)"
   ]
  },
  {
   "cell_type": "code",
   "execution_count": 1,
   "metadata": {},
   "outputs": [
    {
     "data": {
      "text/plain": [
       "array([0, 3, 8, 2, 5, 7, 9, 6, 1, 4])"
      ]
     },
     "execution_count": 1,
     "metadata": {},
     "output_type": "execute_result"
    }
   ],
   "source": [
    "import numpy as np\n",
    "\n",
    "np.random.permutation(10)"
   ]
  },
  {
   "cell_type": "code",
   "execution_count": 1,
   "metadata": {},
   "outputs": [
    {
     "name": "stdout",
     "output_type": "stream",
     "text": [
      "[18 17 12 23 15 16 13  2  1 22 14  4 21  6  7  5 20  9 11 25 19  0  8  3 24\n",
      " 10]\n",
      "(array([21]),)\n",
      "[18 17 12 23 15 16 13  2  1 22 14  4 21  6  7  5 20  9 11 25 19  8  3 24 10]\n"
     ]
    }
   ],
   "source": [
    "# random presenation order\n",
    "\n",
    "import numpy as np\n",
    "\n",
    "# size of your group\n",
    "n = 25\n",
    "\n",
    "# choose your random seed\n",
    "np.random.seed(3)\n",
    "\n",
    "# random permutation on {0,1,2,...,n}\n",
    "a = np.random.permutation(n+1)\n",
    "print(a)\n",
    "\n",
    "# find where is 0\n",
    "item_index = np.where(a==0)\n",
    "print(item_index)\n",
    "\n",
    "# random permutation on {1,2,...,n}\n",
    "a = np.delete(a, item_index, 0)\n",
    "print(a)"
   ]
  },
  {
   "cell_type": "code",
   "execution_count": 2,
   "metadata": {},
   "outputs": [
    {
     "name": "stdout",
     "output_type": "stream",
     "text": [
      "[0 3 2 1 4]\n",
      "(array([0]),)\n",
      "[3 2 1 4]\n",
      "Dec 1, 2017: Group  C\n",
      "Dec 8, 2017: Group  B\n",
      "Dec 15, 2017: Group  A\n",
      "Dec 22, 2017: Group  D\n"
     ]
    }
   ],
   "source": [
    "# random presenation date\n",
    "# 1st presenation date - Dec  1, 2017\n",
    "# 2nd presenation date - Dec  8, 2017\n",
    "# 3rd presenation date - Dec 15, 2017\n",
    "# 4th presenation date - Dec 22, 2017\n",
    "\n",
    "import numpy as np\n",
    "\n",
    "# size of your group\n",
    "n = 4\n",
    "\n",
    "# choose your random seed\n",
    "np.random.seed(7)\n",
    "\n",
    "# random permutation on {0,1,2,...,n}\n",
    "a = np.random.permutation(n+1)\n",
    "print(a)\n",
    "\n",
    "# find where is 0\n",
    "item_index = np.where(a==0)\n",
    "print(item_index)\n",
    "\n",
    "# random permutation on {1,2,...,n}\n",
    "a = np.delete(a, item_index, 0)\n",
    "print(a)\n",
    "\n",
    "group = [\"A\", \"B\", \"C\", \"D\"]\n",
    "print(\"Dec 1, 2017: Group \", group[a[0]-1])\n",
    "print(\"Dec 8, 2017: Group \", group[a[1]-1])\n",
    "print(\"Dec 15, 2017: Group \", group[a[2]-1])\n",
    "print(\"Dec 22, 2017: Group \", group[a[3]-1])"
   ]
  },
  {
   "cell_type": "code",
   "execution_count": null,
   "metadata": {
    "collapsed": true
   },
   "outputs": [],
   "source": []
  },
  {
   "cell_type": "code",
   "execution_count": null,
   "metadata": {
    "collapsed": true
   },
   "outputs": [],
   "source": []
  }
 ],
 "metadata": {
  "celltoolbar": "Slideshow",
  "kernelspec": {
   "display_name": "Python 3",
   "language": "python",
   "name": "python3"
  },
  "language_info": {
   "codemirror_mode": {
    "name": "ipython",
    "version": 3
   },
   "file_extension": ".py",
   "mimetype": "text/x-python",
   "name": "python",
   "nbconvert_exporter": "python",
   "pygments_lexer": "ipython3",
   "version": "3.6.1"
  }
 },
 "nbformat": 4,
 "nbformat_minor": 2
}
